{
 "cells": [
  {
   "cell_type": "code",
   "execution_count": null,
   "metadata": {},
   "outputs": [
    {
     "name": "stdout",
     "output_type": "stream",
     "text": [
      "inside class\n"
     ]
    },
    {
     "name": "stderr",
     "output_type": "stream",
     "text": [
      "C:\\Users\\Niyati\\Anaconda3\\lib\\site-packages\\h5py\\__init__.py:34: FutureWarning: Conversion of the second argument of issubdtype from `float` to `np.floating` is deprecated. In future, it will be treated as `np.float64 == np.dtype(float).type`.\n",
      "  from ._conv import register_converters as _register_converters\n",
      "Using TensorFlow backend.\n"
     ]
    },
    {
     "name": "stdout",
     "output_type": "stream",
     "text": [
      "loaded\n",
      "inside init\n",
      "bins:\n",
      "(8, 12, 3)\n",
      "E:/niyati/MAchine Learning Projects/Project/queries/4.png\n",
      "bins: (8, 12, 3)\n",
      "inside descrivvvvvvvvvvvvvvbe\n",
      "bins\n",
      "(8, 12, 3)\n",
      "bins\n",
      "(8, 12, 3)\n",
      "bins\n",
      "(8, 12, 3)\n",
      "bins\n",
      "(8, 12, 3)\n",
      "bins\n",
      "(8, 12, 3)\n",
      "[(6.478109171440797e-16, 'dataset\\\\4 (5).png'), (0.18475556239801233, 'dataset\\\\2 (10).png'), (0.3776734059234441, 'dataset\\\\1 (12).png'), (0.42617236077437, 'dataset\\\\1 (10).png'), (0.4887856895333831, 'dataset\\\\2 (12).png'), (0.7137155383017131, 'dataset\\\\4 (6).png')]\n",
      "inside\n",
      "4\n",
      "inside\n",
      "4\n",
      "inside\n",
      "4\n",
      "inside\n",
      "4\n",
      "inside\n",
      "4\n",
      "inside\n",
      "4\n",
      "inside init\n",
      "bins:\n",
      "(8, 12, 3)\n",
      "E:/niyati/MAchine Learning Projects/Project/queries/train_25 (4).png\n",
      "bins: (8, 12, 3)\n",
      "inside descrivvvvvvvvvvvvvvbe\n",
      "bins\n",
      "(8, 12, 3)\n",
      "bins\n",
      "(8, 12, 3)\n",
      "bins\n",
      "(8, 12, 3)\n",
      "bins\n",
      "(8, 12, 3)\n",
      "bins\n",
      "(8, 12, 3)\n",
      "[(2.8870390232125014e-15, 'dataset\\\\train_25 (13).png'), (3.5160431191858725, 'dataset\\\\train_18 (11).png'), (3.5615186186128405, 'dataset\\\\train_291 (4).png'), (4.021196076524117, 'dataset\\\\train_440 (3).png'), (4.667142164811971, 'dataset\\\\train_21 (13).png'), (5.535344667355456, 'dataset\\\\train_137 (6).png')]\n",
      "inside\n",
      "10\n",
      "inside\n",
      "10\n",
      "inside\n",
      "9\n",
      "inside\n",
      "10\n",
      "inside\n",
      "2\n",
      "inside\n",
      "8\n"
     ]
    }
   ],
   "source": [
    "% run -i main.py"
   ]
  },
  {
   "cell_type": "code",
   "execution_count": null,
   "metadata": {
    "collapsed": true
   },
   "outputs": [],
   "source": []
  },
  {
   "cell_type": "code",
   "execution_count": null,
   "metadata": {
    "collapsed": true
   },
   "outputs": [],
   "source": []
  }
 ],
 "metadata": {
  "kernelspec": {
   "display_name": "Python 3",
   "language": "python",
   "name": "python3"
  },
  "language_info": {
   "codemirror_mode": {
    "name": "ipython",
    "version": 3
   },
   "file_extension": ".py",
   "mimetype": "text/x-python",
   "name": "python",
   "nbconvert_exporter": "python",
   "pygments_lexer": "ipython3",
   "version": "3.6.3"
  }
 },
 "nbformat": 4,
 "nbformat_minor": 2
}
