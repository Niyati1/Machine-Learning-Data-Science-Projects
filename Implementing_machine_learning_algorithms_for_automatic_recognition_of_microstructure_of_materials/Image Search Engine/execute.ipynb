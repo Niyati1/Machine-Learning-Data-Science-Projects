{
 "cells": [
  {
   "cell_type": "code",
   "execution_count": 3,
   "metadata": {},
   "outputs": [
    {
     "name": "stdout",
     "output_type": "stream",
     "text": [
      "loaded\n",
      "F:/Niyati/e backup/niyati/MAchine Learning Projects/Image Search Engine/dataset/31 (3).png\n"
     ]
    },
    {
     "name": "stderr",
     "output_type": "stream",
     "text": [
      "Exception in Tkinter callback\n",
      "Traceback (most recent call last):\n",
      "  File \"C:\\Users\\Niyati\\Anaconda3\\lib\\tkinter\\__init__.py\", line 1699, in __call__\n",
      "    return self.func(*args)\n",
      "  File \"F:\\Niyati\\e backup\\niyati\\MAchine Learning Projects\\Image Search Engine\\main.py\", line 101, in Clicked1\n",
      "    label.image = photo\n",
      "AttributeError: 'NoneType' object has no attribute 'image'\n"
     ]
    },
    {
     "name": "stdout",
     "output_type": "stream",
     "text": [
      "F:/Niyati/e backup/niyati/MAchine Learning Projects/Image Search Engine/dataset/32 (3).png\n"
     ]
    },
    {
     "name": "stderr",
     "output_type": "stream",
     "text": [
      "Exception in Tkinter callback\n",
      "Traceback (most recent call last):\n",
      "  File \"C:\\Users\\Niyati\\Anaconda3\\lib\\tkinter\\__init__.py\", line 1699, in __call__\n",
      "    return self.func(*args)\n",
      "  File \"F:\\Niyati\\e backup\\niyati\\MAchine Learning Projects\\Image Search Engine\\main.py\", line 101, in Clicked1\n",
      "    label.image = photo\n",
      "AttributeError: 'NoneType' object has no attribute 'image'\n"
     ]
    }
   ],
   "source": [
    "% run -i main.py"
   ]
  },
  {
   "cell_type": "code",
   "execution_count": null,
   "metadata": {
    "collapsed": true
   },
   "outputs": [],
   "source": []
  }
 ],
 "metadata": {
  "kernelspec": {
   "display_name": "Python 3",
   "language": "python",
   "name": "python3"
  },
  "language_info": {
   "codemirror_mode": {
    "name": "ipython",
    "version": 3
   },
   "file_extension": ".py",
   "mimetype": "text/x-python",
   "name": "python",
   "nbconvert_exporter": "python",
   "pygments_lexer": "ipython3",
   "version": "3.6.3"
  }
 },
 "nbformat": 4,
 "nbformat_minor": 2
}
